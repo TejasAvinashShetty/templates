{
 "cells": [
  {
   "cell_type": "markdown",
   "metadata": {},
   "source": [
    "# Qutip imports"
   ]
  },
  {
   "cell_type": "code",
   "execution_count": 7,
   "metadata": {},
   "outputs": [],
   "source": [
    "from qutip.operators import sigmax, sigmay, sigmaz, identity\n",
    "# position,  num\n",
    "from qutip.tensor import tensor\n",
    "from qutip.qip.gates import swap"
   ]
  },
  {
   "cell_type": "markdown",
   "metadata": {},
   "source": [
    "## Numpy imports"
   ]
  },
  {
   "cell_type": "code",
   "execution_count": 3,
   "metadata": {},
   "outputs": [],
   "source": [
    "from numpy import sin, cos, tan, real, imag,  log\n",
    "from numpy import array, append, linspace, arange\n",
    "from numpy import add\n",
    "from numpy.random import random, random_sample\n",
    "from numpy import concatenate\n",
    "# from numpy import pi"
   ]
  },
  {
   "cell_type": "markdown",
   "metadata": {},
   "source": [
    "## Scipy imports"
   ]
  },
  {
   "cell_type": "code",
   "execution_count": 4,
   "metadata": {},
   "outputs": [],
   "source": [
    "from scipy.integrate import ode, odeint, complex_ode\n",
    "from scipy.optimize import minimize"
   ]
  },
  {
   "cell_type": "markdown",
   "metadata": {},
   "source": [
    "## Matplotlib imports"
   ]
  },
  {
   "cell_type": "code",
   "execution_count": null,
   "metadata": {},
   "outputs": [],
   "source": [
    "from matplotlib.pyplot import plot, figure, show, savefig\n",
    "from matplotlib.pyplot import xlabel, ylabel, title, legend\n",
    "from matplolib import rcParams\n",
    "\n"
   ]
  },
  {
   "cell_type": "markdown",
   "metadata": {},
   "source": [
    "## Math imports"
   ]
  },
  {
   "cell_type": "code",
   "execution_count": 6,
   "metadata": {},
   "outputs": [],
   "source": [
    "from math import pi"
   ]
  },
  {
   "cell_type": "markdown",
   "metadata": {},
   "source": [
    "## Cmath imports"
   ]
  },
  {
   "cell_type": "code",
   "execution_count": null,
   "metadata": {},
   "outputs": [],
   "source": []
  },
  {
   "cell_type": "markdown",
   "metadata": {},
   "source": [
    "## Date and datetime imports"
   ]
  },
  {
   "cell_type": "code",
   "execution_count": 5,
   "metadata": {},
   "outputs": [],
   "source": [
    "from datetime import date\n",
    "from datetime import datetime# now\n"
   ]
  },
  {
   "cell_type": "markdown",
   "metadata": {},
   "source": [
    "## Sympy imports"
   ]
  },
  {
   "cell_type": "code",
   "execution_count": 8,
   "metadata": {},
   "outputs": [],
   "source": [
    "from sympy import Function, dsolve, Eq, Derivative, symbols\n",
    "# x, y, z, t = symbols('x y z t')\n",
    "# k, m, n = symbols('k m n', integer=True)\n",
    "# f, g, h = symbols('f g h', cls=Function)"
   ]
  },
  {
   "cell_type": "markdown",
   "metadata": {},
   "source": [
    "## Miscellaneous imports"
   ]
  },
  {
   "cell_type": "code",
   "execution_count": null,
   "metadata": {},
   "outputs": [],
   "source": []
  },
  {
   "cell_type": "markdown",
   "metadata": {},
   "source": [
    "Basic plotting commands"
   ]
  },
  {
   "cell_type": "code",
   "execution_count": null,
   "metadata": {},
   "outputs": [],
   "source": [
    "time_stuff = linspace(0, 4*pi, 1000)\n",
    "p = tan(-2*time_stuff)\n",
    "m = tan(-2*time_stuff)*((1 + cos(-4*time_stuff))/2)\n",
    "t = -2*log(cos(-2*time_stuff))\n",
    "figure()\n",
    "plot(time_stuff, p, color='b', linestyle='--', label=r'$\\mu_{+,real}$' );\n",
    "plot(time_stuff, m, color='c', linestyle='-', label=r'$\\mu_{-, rea;}$' );\n",
    "plot(time_stuff, t, color='red', linestyle='--', label=r'$\\mu_{3, imaginary}$' )\n",
    "# plot(time_stuff, mmi, color='m', linestyle='-', label=r'$\\mu_{-, imaginary}$' )\n",
    "\n",
    "# plot(time_stuff, m3r, color='y', linestyle='--', label=r'$\\mu_{3,real}$' )\n",
    "# plot(time_stuff, m3i, color='green', linestyle='-', label=r'$\\mu_{3, imaginary}$')\n",
    "\n",
    "xlabel('time')\n",
    "ylabel(r'$\\mu$')\n",
    "title(r'Plot of $\\mu$ versus time')\n",
    "legend()\n",
    "savefig('Plot_of_mu_versus_time.png')  # saves  a blank file if saved after show()\n",
    "show()\n"
   ]
  }
 ],
 "metadata": {
  "kernelspec": {
   "display_name": "Python 3",
   "language": "python",
   "name": "python3"
  },
  "language_info": {
   "codemirror_mode": {
    "name": "ipython",
    "version": 3
   },
   "file_extension": ".py",
   "mimetype": "text/x-python",
   "name": "python",
   "nbconvert_exporter": "python",
   "pygments_lexer": "ipython3",
   "version": "3.6.2"
  }
 },
 "nbformat": 4,
 "nbformat_minor": 2
}
